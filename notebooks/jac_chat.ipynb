{
 "cells": [
  {
   "cell_type": "markdown",
   "metadata": {},
   "source": [
    "# 💬 | JAC ChatBot"
   ]
  },
  {
   "cell_type": "markdown",
   "metadata": {},
   "source": [
    "## 💾 | Cargar datos"
   ]
  },
  {
   "cell_type": "code",
   "execution_count": 1,
   "metadata": {},
   "outputs": [
    {
     "name": "stderr",
     "output_type": "stream",
     "text": [
      "/Users/laasanchezgi/Library/Python/3.9/lib/python/site-packages/urllib3/__init__.py:35: NotOpenSSLWarning: urllib3 v2 only supports OpenSSL 1.1.1+, currently the 'ssl' module is compiled with 'LibreSSL 2.8.3'. See: https://github.com/urllib3/urllib3/issues/3020\n",
      "  warnings.warn(\n"
     ]
    },
    {
     "name": "stdout",
     "output_type": "stream",
     "text": [
      "Size of the raw document:  120\n"
     ]
    },
    {
     "data": {
      "text/plain": [
       "Document(metadata={'source': '../docs/constitucion_politica.pdf', 'page': 0}, page_content=' \\nConvenciones: \\n \\n- Los textos encerrados entre los símbolos <...> fueron agregados por el \\neditor, con el único propósito de facilitar la consulta de este documento legal. \\nDichos textos no corresponden a las ediciones oficiales de la Constitución \\nPolítica de 1991, publicadas en las Gacetas Constitucionales Nos. 114, 116 y \\n125  de  1991,  ni  de  sus  modificaciones  a  través  de  Actos  Legislativos \\npublicados en diferentes Diarios Oficiales. \\n \\n  \\nPREAMBULO \\n \\nEl pueblo de Colombia, \\n \\nen ejercicio de su poder soberano, representado por sus delegatarios a la \\nAsamblea Nacional Constituyente, invocando la protección de Dios, y con el fin \\nde fortalecer la unidad de la Nación y asegurar a sus integrantes la vida, la \\nconvivencia, el trabajo, la justicia, la igualdad, el conocimiento, la libertad y la \\npaz, dentro de un marco jurídico, democrático y participativo que garantice un \\norden político, económico y social justo, y comprometido a impulsar la \\nintegración de la comunidad latinoamericana, decreta, sanciona y promulga la \\nsiguiente: \\n \\n \\nCONSTITUCION POLITICA DE COLOMBIA \\n \\n<Esta versión corresponde a la segunda edición corregida de la \\nConstitución Política de Colombia, publicada en la Gaceta Constitucional No. \\n116 de 20 de julio de 1991> \\n \\nTITULO I. \\nDE LOS PRINCIPIOS FUNDAMENTALES \\n \\nARTICULO 1o. Colombia es un Estado social de derecho, organizado en forma \\nde  República  unitaria,  descentralizada,  con  autonomía  de  sus  entidades \\nterritoriales, democrática, participativa y pluralista, fundada en el respeto de la \\ndignidad humana, en el trabajo y la solidaridad de las personas que la integran \\ny en la prevalencia del interés general.\\nARTICULO  2o. Son  fines  esenciales  del  Estado:  servir  a  la  comunidad, \\npromover la prosperidad general y garantizar la efectividad de los principios, \\nderechos y deberes consagrados en la Constitución; facilitar la participación de \\ntodos en las decisiones  que los afectan y en la vida económica, política, \\nadministrativa y cultural de la Nación; defender la independencia nacional, \\nmantener  la  integridad  territorial  y  asegurar  la  convivencia  pacífica  y  la \\nvigencia de un orden justo. \\n \\nLas autoridades de la República están instituidas para proteger a todas las ')"
      ]
     },
     "execution_count": 1,
     "metadata": {},
     "output_type": "execute_result"
    }
   ],
   "source": [
    "# Importar el cargador de documentos PyPDFLoader\n",
    "from langchain_community.document_loaders import PyPDFLoader\n",
    "# Cargar el documento\n",
    "loader = PyPDFLoader(\"../docs/constitucion_politica.pdf\")\n",
    "# Obtener el documento en bruto\n",
    "raw_document = loader.load()\n",
    "# Imprimir el tamaño del documento en bruto\n",
    "print(\"Size of the raw document: \", len(raw_document))\n",
    "# Imprimir el primer caracter del documento en bruto\n",
    "raw_document[0]"
   ]
  },
  {
   "cell_type": "markdown",
   "metadata": {},
   "source": [
    "## 🔪 | Generar chunks a partir del documento"
   ]
  },
  {
   "cell_type": "code",
   "execution_count": 2,
   "metadata": {},
   "outputs": [
    {
     "name": "stdout",
     "output_type": "stream",
     "text": [
      "Size of the splitted documents:  375\n"
     ]
    },
    {
     "data": {
      "text/plain": [
       "Document(metadata={'source': '../docs/constitucion_politica.pdf', 'page': 0}, page_content='Convenciones: \\n \\n- Los textos encerrados entre los símbolos <...> fueron agregados por el \\neditor, con el único propósito de facilitar la consulta de este documento legal. \\nDichos textos no corresponden a las ediciones oficiales de la Constitución \\nPolítica de 1991, publicadas en las Gacetas Constitucionales Nos. 114, 116 y \\n125  de  1991,  ni  de  sus  modificaciones  a  través  de  Actos  Legislativos \\npublicados en diferentes Diarios Oficiales. \\n \\n  \\nPREAMBULO \\n \\nEl pueblo de Colombia, \\n \\nen ejercicio de su poder soberano, representado por sus delegatarios a la \\nAsamblea Nacional Constituyente, invocando la protección de Dios, y con el fin \\nde fortalecer la unidad de la Nación y asegurar a sus integrantes la vida, la \\nconvivencia, el trabajo, la justicia, la igualdad, el conocimiento, la libertad y la \\npaz, dentro de un marco jurídico, democrático y participativo que garantice un \\norden político, económico y social justo, y comprometido a impulsar la')"
      ]
     },
     "execution_count": 2,
     "metadata": {},
     "output_type": "execute_result"
    }
   ],
   "source": [
    "# Importar el separador de texto RecursiveCharacterTextSplitter\n",
    "from langchain_text_splitters import RecursiveCharacterTextSplitter\n",
    "# Crear una instancia del separador de texto\n",
    "splitter = RecursiveCharacterTextSplitter(\n",
    "    chunk_size=1000, # Tamaño de los fragmentos\n",
    "    chunk_overlap=100 # Traslape de los fragmentos\n",
    ")\n",
    "# Separar el documento en fragmentos\n",
    "documents = splitter.split_documents(raw_document)\n",
    "# Imprimir el tamaño de los documentos separados\n",
    "print(\"Size of the splitted documents: \", len(documents))\n",
    "# Imprimir el primer fragmento\n",
    "documents[0]"
   ]
  },
  {
   "cell_type": "markdown",
   "metadata": {},
   "source": [
    "## 💰 | Contar los tokens y generar un costo estimado del embedding"
   ]
  },
  {
   "cell_type": "code",
   "execution_count": 3,
   "metadata": {},
   "outputs": [
    {
     "name": "stdout",
     "output_type": "stream",
     "text": [
      "Total tokens: 90482 - cost: $0.009048\n"
     ]
    }
   ],
   "source": [
    "import tiktoken\n",
    "encoder = tiktoken.encoding_for_model(\"text-embedding-ada-002\")\n",
    "doc_tokens = [len(encoder.encode(doc.page_content)) for doc in documents]\n",
    "total_tokens = sum(doc_tokens)\n",
    "cost = (total_tokens/1000) * 0.0001\n",
    "print(f\"Total tokens: {total_tokens} - cost: ${cost:.6f}\")"
   ]
  },
  {
   "cell_type": "markdown",
   "metadata": {},
   "source": [
    "## 💽 | Almacenar los embeddings en la base de datos vectorial"
   ]
  },
  {
   "cell_type": "code",
   "execution_count": 4,
   "metadata": {},
   "outputs": [],
   "source": [
    "import os\n",
    "from dotenv import load_dotenv\n",
    "from langchain_chroma import Chroma\n",
    "from langchain_openai import AzureOpenAIEmbeddings\n",
    "\n",
    "load_dotenv()\n",
    "AZURE_OPENAI_ENDPOINT = os.getenv(\"AZURE_OPENAI_ENDPOINT\")\n",
    "AZURE_OPENAI_API_KEY = os.getenv(\"AZURE_OPENAI_API_KEY\")\n",
    "# Asignar las variables de entorno a os.environ\n",
    "os.environ[\"AZURE_OPENAI_ENDPOINT\"] = AZURE_OPENAI_ENDPOINT\n",
    "os.environ[\"AZURE_OPENAI_API_KEY\"] = AZURE_OPENAI_API_KEY\n",
    "\n",
    "# Crear una instancia de AzureOpenAIEmbeddings\n",
    "embedding = AzureOpenAIEmbeddings(\n",
    "    deployment=\"text-embedding-ada-002\",# Modelo de embeddings\n",
    "    chunk_size = 1 # Tamaño de los fragmentos\n",
    "    )\n",
    "# Crear una instancia de Chroma\n",
    "db_cp = Chroma(\n",
    "    persist_directory=\"chroma_db_cp\", # Directorio de persistencia\n",
    "    embedding_function=embedding # Función de embeddings\n",
    "    )\n",
    "# Obtener el contenido de la base de datos\n",
    "db_cp.get() "
   ]
  },
  {
   "cell_type": "markdown",
   "metadata": {},
   "source": [
    "## ⛓️ | Crear una cadena QA"
   ]
  },
  {
   "cell_type": "code",
   "execution_count": 23,
   "metadata": {},
   "outputs": [
    {
     "name": "stdout",
     "output_type": "stream",
     "text": [
      "Los fines esenciales del Estado Colombiano están consagrados en la Constitución Política de Colombia de 1991. Según el Artículo 2 de la Constitución, los fines esenciales del Estado son:\n",
      "\n",
      "1. **Servir a la comunidad**: El Estado está al servicio de la comunidad, trabajando para promover el bienestar general y mejorar la calidad de vida de la población.\n",
      "2. **Garantizar la efectividad de los principios, derechos y deberes consagrados en la Constitución**: El Estado debe asegurar que todos los principios y derechos fundamentales, así como los deberes de los ciudadanos, sean respetados y cumplidos.\n",
      "3. **Facilitar la participación de todos en las decisiones que los afectan y en la vida económica, política, administrativa y cultural de la Nación**: El Estado debe promover la inclusión y participación activa de todos los ciudadanos en los diferentes aspectos de la gestión pública y la vida nacional.\n",
      "4. **Defender la independencia nacional, mantener la integridad territorial y asegurar la convivencia pacífica y la vigencia de un orden justo**: El Estado debe proteger la soberanía, mantener la paz y el orden, y trabajar por una sociedad justa.\n",
      "\n",
      "Estos fines son fundamentales para entender el rol y las responsabilidades del Estado Colombiano en el contexto de su marco jurídico y político.\n"
     ]
    }
   ],
   "source": [
    "# Importar el prompt template\n",
    "from langchain_core.prompts import PromptTemplate\n",
    "# Importar el parser de salida\n",
    "from langchain_core.output_parsers import StrOutputParser \n",
    "\n",
    "# Crear una pregunta\n",
    "question_cp = \"¿Cuales son los fines esenciales del Estado Colombiano?\"\n",
    "# Buscar documentos similares\n",
    "context_docs = db_cp.similarity_search(question_cp)\n",
    "# Prompt template\n",
    "prompt = PromptTemplate(\n",
    "    template=\"\"\"\"\n",
    "    Use the following pieces of context to answer the question at the end.\n",
    "    If you don't know the answer, just say that you don't know, don't try to make up an answer.\n",
    "\n",
    "    <context>\n",
    "    {context}\n",
    "    </context>\n",
    "\n",
    "    Question: {question}\n",
    "    Helpful Answer, formatted in markdown:\n",
    "    \"\"\",\n",
    "    input_variables=[\"context\", \"question\"]\n",
    ")\n",
    "\n",
    "# Crear una instancia del parser de salida\n",
    "llm = AzureChatOpenAI(\n",
    "    azure_endpoint=AZURE_OPENAI_ENDPOINT ,\n",
    "    openai_api_version=\"2023-03-15-preview\",\n",
    "    azure_deployment=\"gpt-4\",\n",
    ")\n",
    "\n",
    "# Crear la cadena\n",
    "qa_chain = prompt | llm | StrOutputParser() # Cadena de lo que ejecuta\n",
    "\n",
    "# Llamar a la cadena\n",
    "result = qa_chain.invoke({\n",
    "    \"question\": question_cp,\n",
    "    \"context\": \"\\n\".join([doc.page_content for doc in context_docs])\n",
    "})\n",
    "\n",
    "# Imprimir el resultado a la pregunta\n",
    "print(result)"
   ]
  }
 ],
 "metadata": {
  "kernelspec": {
   "display_name": "Python 3",
   "language": "python",
   "name": "python3"
  },
  "language_info": {
   "codemirror_mode": {
    "name": "ipython",
    "version": 3
   },
   "file_extension": ".py",
   "mimetype": "text/x-python",
   "name": "python",
   "nbconvert_exporter": "python",
   "pygments_lexer": "ipython3",
   "version": "3.9.6"
  }
 },
 "nbformat": 4,
 "nbformat_minor": 2
}
